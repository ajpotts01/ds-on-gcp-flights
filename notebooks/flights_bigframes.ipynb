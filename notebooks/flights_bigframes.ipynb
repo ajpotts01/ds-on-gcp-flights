{
 "cells": [
  {
   "cell_type": "code",
   "execution_count": 13,
   "metadata": {},
   "outputs": [],
   "source": [
    "import bigframes.pandas as bpd\n",
    "import pandas as pd"
   ]
  },
  {
   "cell_type": "code",
   "execution_count": 14,
   "metadata": {},
   "outputs": [],
   "source": [
    "bpd.options.bigquery.project = \"ajp-ds-gcp\"\n",
    "bpd.options.bigquery.location = \"US\""
   ]
  },
  {
   "cell_type": "code",
   "execution_count": null,
   "metadata": {},
   "outputs": [],
   "source": [
    "table: str = \"dsongcp.flights_raw\"\n",
    "\n",
    "df_flights_raw: bpd.DataFrame = bpd.read_gbq(query=table)\n",
    "df_flights_raw2: bpd.DataFrame = df_flights_raw.copy()\n",
    "pd.testing.assert_frame_equal(df_flights_raw, df_flights_raw2)"
   ]
  },
  {
   "cell_type": "code",
   "execution_count": 9,
   "metadata": {},
   "outputs": [],
   "source": [
    "def transforms(df_raw: bpd.DataFrame) -> bpd.DataFrame:\n",
    "    columns_selected: dict = {\n",
    "        \"FlightDate\": \"flight_date\",\n",
    "        \"Reporting_Airline\": \"unique_carrier\",\n",
    "        \"OriginAirportSeqID\": \"origin_airport_seq_id\",\n",
    "        \"Origin\": \"origin\",\n",
    "        \"DestAirportSeqID\": \"dest_airport_seq_id\",\n",
    "        \"Dest\": \"dest\",\n",
    "        \"CRSDepTime\": \"crs_dep_time\",\n",
    "        \"DepTime\": \"dep_time\",\n",
    "        \"DepDelay\": \"dep_delay\",\n",
    "        \"TaxiOut\": \"taxi_out\",\n",
    "        \"WheelsOff\": \"wheels_off\",\n",
    "        \"WheelsOn\": \"wheels_on\",\n",
    "        \"TaxiIn\": \"taxi_in\",\n",
    "        \"CRSArrTime\": \"crs_arr_time\",\n",
    "        \"ArrTime\": \"arr_time\",\n",
    "        \"ArrDelay\": \"arr_delay\",\n",
    "        \"Cancelled\": \"cancelled\",\n",
    "        \"Diverted\": \"diverted\",\n",
    "        \"Distance\": \"distance\",\n",
    "    }\n",
    "\n",
    "    # Doing explicit casts with a list of columns\n",
    "    # The conventional dictionary method doesn't work with Bigframes\n",
    "    columns_float: list = [\n",
    "        \"dep_delay\",\n",
    "        \"taxi_out\",\n",
    "        \"taxi_in\",\n",
    "        \"arr_delay\",\n",
    "    ]\n",
    "\n",
    "    map_bool = {\n",
    "        \"1.00\": True,\n",
    "        \"0.00\": False\n",
    "    }    \n",
    "    \n",
    "    columns_bool = [\"cancelled\", \"diverted\"]\n",
    "    df_transformed: bpd.DataFrame = df_raw.copy()\n",
    "    df_transformed = df_transformed[columns_selected.keys()].rename(columns=columns_selected)\n",
    "\n",
    "    for col in columns_bool:\n",
    "        df_transformed[col] = df_transformed[col].map(map_bool)\n",
    "    \n",
    "    for col in columns_float:\n",
    "        df_transformed[col] = df_transformed[col].astype(\"Float64\")\n",
    "\n",
    "    return df_transformed\n",
    "\n",
    "    \n",
    "df_flights_transformed: bpd.DataFrame = transforms(df_raw=df_flights_raw)"
   ]
  },
  {
   "cell_type": "code",
   "execution_count": 11,
   "metadata": {},
   "outputs": [
    {
     "data": {
      "application/vnd.jupyter.widget-view+json": {
       "model_id": "dbe3ed0168914c3ea05880c4e44676bc",
       "version_major": 2,
       "version_minor": 0
      },
      "text/plain": [
       "HTML(value='Query job b22123d1-c3b9-46c3-acf3-4210db77ac53 is RUNNING. <a target=\"_blank\" href=\"https://consol…"
      ]
     },
     "metadata": {},
     "output_type": "display_data"
    }
   ],
   "source": [
    "df_flights_transformed.to_gbq(\"dsongcp.flights\", if_exists=\"replace\")"
   ]
  }
 ],
 "metadata": {
  "kernelspec": {
   "display_name": ".venv",
   "language": "python",
   "name": "python3"
  },
  "language_info": {
   "codemirror_mode": {
    "name": "ipython",
    "version": 3
   },
   "file_extension": ".py",
   "mimetype": "text/x-python",
   "name": "python",
   "nbconvert_exporter": "python",
   "pygments_lexer": "ipython3",
   "version": "3.9.13"
  },
  "orig_nbformat": 4
 },
 "nbformat": 4,
 "nbformat_minor": 2
}
